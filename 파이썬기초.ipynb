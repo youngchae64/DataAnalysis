{
  "nbformat": 4,
  "nbformat_minor": 0,
  "metadata": {
    "colab": {
      "provenance": [],
      "authorship_tag": "ABX9TyN/Yl5BzeTuc17in1bglt/J",
      "include_colab_link": true
    },
    "kernelspec": {
      "name": "python3",
      "display_name": "Python 3"
    },
    "language_info": {
      "name": "python"
    }
  },
  "cells": [
    {
      "cell_type": "markdown",
      "metadata": {
        "id": "view-in-github",
        "colab_type": "text"
      },
      "source": [
        "<a href=\"https://colab.research.google.com/github/youngchae64/DataAnalysis/blob/main/%ED%8C%8C%EC%9D%B4%EC%8D%AC%EA%B8%B0%EC%B4%88.ipynb\" target=\"_parent\"><img src=\"https://colab.research.google.com/assets/colab-badge.svg\" alt=\"Open In Colab\"/></a>"
      ]
    },
    {
      "cell_type": "code",
      "execution_count": 21,
      "metadata": {
        "colab": {
          "base_uri": "https://localhost:8080/"
        },
        "id": "VBjlWcG9YOyR",
        "outputId": "6a3f8ea2-2e4e-4c8a-8531-071f6091b1ba"
      },
      "outputs": [
        {
          "output_type": "stream",
          "name": "stdout",
          "text": [
            "당신이 태어난 년도를 입력해 주세요: 1998\n",
            "대학생\n"
          ]
        }
      ],
      "source": [
        "year = int(input(\"당신이 태어난 년도를 입력해 주세요: \"))\n",
        "\n",
        "age = 2023 - year\n",
        "\n",
        "if 20<= age and age <= 26:\n",
        "  print(\"대학생\")\n",
        "elif 17 <= age and age < 20:\n",
        "  print(\"고등학생\")\n",
        "else:\n",
        "  print(\"학생이 아닙니다.\")\n"
      ]
    },
    {
      "cell_type": "code",
      "source": [
        "for looper in [1,2,3,4,5]:\n",
        "  print(f\"{looper} : Hello\")"
      ],
      "metadata": {
        "colab": {
          "base_uri": "https://localhost:8080/"
        },
        "id": "pPFqghxtZSye",
        "outputId": "c5981927-4602-4684-d1b3-9b3e493fa076"
      },
      "execution_count": 22,
      "outputs": [
        {
          "output_type": "stream",
          "name": "stdout",
          "text": [
            "1 : Hello\n",
            "2 : Hello\n",
            "3 : Hello\n",
            "4 : Hello\n",
            "5 : Hello\n"
          ]
        }
      ]
    },
    {
      "cell_type": "code",
      "source": [
        "for looper in range(0,5):\n",
        "  print(\"Hello\")"
      ],
      "metadata": {
        "colab": {
          "base_uri": "https://localhost:8080/"
        },
        "id": "XwcCmRCyaKBK",
        "outputId": "283006ab-fb6d-4504-d541-876d3bad0188"
      },
      "execution_count": 7,
      "outputs": [
        {
          "output_type": "stream",
          "name": "stdout",
          "text": [
            "Hello\n",
            "Hello\n",
            "Hello\n",
            "Hello\n",
            "Hello\n"
          ]
        }
      ]
    },
    {
      "cell_type": "code",
      "source": [
        "list(range(5))"
      ],
      "metadata": {
        "colab": {
          "base_uri": "https://localhost:8080/"
        },
        "id": "UGCUoP2DaURN",
        "outputId": "d6f8f25f-8933-4082-837b-b469d6f59e6d"
      },
      "execution_count": 8,
      "outputs": [
        {
          "output_type": "execute_result",
          "data": {
            "text/plain": [
              "[0, 1, 2, 3, 4]"
            ]
          },
          "metadata": {},
          "execution_count": 8
        }
      ]
    },
    {
      "cell_type": "code",
      "source": [
        "for looper in range(0,5):\n",
        "  print(f\"{looper} : Hello\")"
      ],
      "metadata": {
        "colab": {
          "base_uri": "https://localhost:8080/"
        },
        "id": "kFHm7AODadNk",
        "outputId": "598a5436-3d48-4c6e-bc32-ecbab43c6809"
      },
      "execution_count": 9,
      "outputs": [
        {
          "output_type": "stream",
          "name": "stdout",
          "text": [
            "0 : Hello\n",
            "1 : Hello\n",
            "2 : Hello\n",
            "3 : Hello\n",
            "4 : Hello\n"
          ]
        }
      ]
    },
    {
      "cell_type": "code",
      "source": [
        "for i in \"abcdefg\":\n",
        "  print(i)"
      ],
      "metadata": {
        "colab": {
          "base_uri": "https://localhost:8080/"
        },
        "id": "-gvRuHcPaqbQ",
        "outputId": "e492589c-b0ec-4f77-fd49-178475c54f48"
      },
      "execution_count": 12,
      "outputs": [
        {
          "output_type": "stream",
          "name": "stdout",
          "text": [
            "a\n",
            "b\n",
            "c\n",
            "d\n",
            "e\n",
            "f\n",
            "g\n"
          ]
        }
      ]
    },
    {
      "cell_type": "code",
      "source": [
        "for i in range(1, 10, 2):\n",
        "  print(i)"
      ],
      "metadata": {
        "colab": {
          "base_uri": "https://localhost:8080/"
        },
        "id": "gjFburQHa26_",
        "outputId": "6d677eb5-4f5a-4c3b-b098-7daa23895dd9"
      },
      "execution_count": 13,
      "outputs": [
        {
          "output_type": "stream",
          "name": "stdout",
          "text": [
            "1\n",
            "3\n",
            "5\n",
            "7\n",
            "9\n"
          ]
        }
      ]
    },
    {
      "cell_type": "code",
      "source": [
        "for i in range(10,1,-1):\n",
        "  print(i)"
      ],
      "metadata": {
        "colab": {
          "base_uri": "https://localhost:8080/"
        },
        "id": "82pGYazXa_EH",
        "outputId": "9181c93a-1923-466f-891f-3c02b34a84dd"
      },
      "execution_count": 14,
      "outputs": [
        {
          "output_type": "stream",
          "name": "stdout",
          "text": [
            "10\n",
            "9\n",
            "8\n",
            "7\n",
            "6\n",
            "5\n",
            "4\n",
            "3\n",
            "2\n"
          ]
        }
      ]
    },
    {
      "cell_type": "code",
      "source": [
        "i = 0\n",
        "while i < 10:\n",
        "  print(f\"{i}: Hello\")\n",
        "  i += 1"
      ],
      "metadata": {
        "colab": {
          "base_uri": "https://localhost:8080/"
        },
        "id": "94IUehDebGRA",
        "outputId": "32fa6383-cc50-44a8-98a8-4f07ba21e886"
      },
      "execution_count": 15,
      "outputs": [
        {
          "output_type": "stream",
          "name": "stdout",
          "text": [
            "0: Hello\n",
            "1: Hello\n",
            "2: Hello\n",
            "3: Hello\n",
            "4: Hello\n",
            "5: Hello\n",
            "6: Hello\n",
            "7: Hello\n",
            "8: Hello\n",
            "9: Hello\n"
          ]
        }
      ]
    },
    {
      "cell_type": "code",
      "source": [
        "for i in range(10):\n",
        "  if i == 5: break\n",
        "  print(i)\n",
        "print(\"EOP\")\n"
      ],
      "metadata": {
        "colab": {
          "base_uri": "https://localhost:8080/"
        },
        "id": "QyKZYolHbWho",
        "outputId": "947240a2-c0f2-43b4-fa89-c3f76cc793f2"
      },
      "execution_count": 16,
      "outputs": [
        {
          "output_type": "stream",
          "name": "stdout",
          "text": [
            "0\n",
            "1\n",
            "2\n",
            "3\n",
            "4\n",
            "EOP\n"
          ]
        }
      ]
    },
    {
      "cell_type": "code",
      "source": [
        "print(\"구구단 몇단을 계산할까요?\")\n",
        "\n",
        "dan = int(input())\n",
        "\n",
        "print(f\"구구단 {dan}을 계산합니다\")\n",
        "\n",
        "for i in range(1,10):\n",
        "  print(f\"{dan} X {i} = {dan*i}\")"
      ],
      "metadata": {
        "colab": {
          "base_uri": "https://localhost:8080/"
        },
        "id": "Qx8ehoc2bxAf",
        "outputId": "4c094605-d32d-4dc0-c24e-5fe17f0e4842"
      },
      "execution_count": 20,
      "outputs": [
        {
          "output_type": "stream",
          "name": "stdout",
          "text": [
            "구구단 몇단을 계산할까요?\n",
            "5\n",
            "구구단 5을 계산합니다\n",
            "5 X 1 = 5\n",
            "5 X 2 = 10\n",
            "5 X 3 = 15\n",
            "5 X 4 = 20\n",
            "5 X 5 = 25\n",
            "5 X 6 = 30\n",
            "5 X 7 = 35\n",
            "5 X 8 = 40\n",
            "5 X 9 = 45\n"
          ]
        }
      ]
    },
    {
      "cell_type": "code",
      "source": [],
      "metadata": {
        "id": "VWhdWHitcwIt"
      },
      "execution_count": 30,
      "outputs": []
    },
    {
      "cell_type": "code",
      "source": [
        "def spam(eggs):\n",
        "  eggs.append(1)\n",
        "  eggs.append(5)\n",
        "  eggs = [2,3]\n",
        "\n",
        "ham = [0]\n",
        "spam(ham)\n",
        "print(ham)"
      ],
      "metadata": {
        "colab": {
          "base_uri": "https://localhost:8080/"
        },
        "id": "tjpweoxCgABT",
        "outputId": "0b39b8fb-0779-43f3-a611-db6260e51199"
      },
      "execution_count": 34,
      "outputs": [
        {
          "output_type": "stream",
          "name": "stdout",
          "text": [
            "[0, 1, 5]\n"
          ]
        }
      ]
    },
    {
      "cell_type": "code",
      "source": [
        "def test(t):\n",
        "  print(x)\n",
        "  t = 20\n",
        "  print(\"In Function:\", t)\n",
        "\n",
        "x = 10\n",
        "test(x)\n"
      ],
      "metadata": {
        "colab": {
          "base_uri": "https://localhost:8080/"
        },
        "id": "I4A_SN18sI_h",
        "outputId": "2537b6d2-5150-4fba-bfbb-019dc183ff87"
      },
      "execution_count": 3,
      "outputs": [
        {
          "output_type": "stream",
          "name": "stdout",
          "text": [
            "10\n",
            "In Function: 20\n"
          ]
        }
      ]
    },
    {
      "cell_type": "code",
      "source": [
        "def test(t):\n",
        "  t = 20\n",
        "  print(\"In Function:\", t)\n",
        "\n",
        "x = 10\n",
        "print(\"Before: \", x)\n",
        "test(x)\n",
        "print(\"After:\", x)"
      ],
      "metadata": {
        "colab": {
          "base_uri": "https://localhost:8080/"
        },
        "id": "RXcUmNNhHXYi",
        "outputId": "fa99aa2c-c0a3-4393-f765-9cedc0907bc9"
      },
      "execution_count": 4,
      "outputs": [
        {
          "output_type": "stream",
          "name": "stdout",
          "text": [
            "Before:  10\n",
            "In Function: 20\n",
            "After: 10\n"
          ]
        }
      ]
    },
    {
      "cell_type": "code",
      "source": [],
      "metadata": {
        "id": "lK0xvLlnH9di"
      },
      "execution_count": null,
      "outputs": []
    }
  ]
}